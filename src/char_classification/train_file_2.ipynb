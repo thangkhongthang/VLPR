{
 "cells": [
  {
   "cell_type": "code",
   "execution_count": 2,
   "id": "8b50cf8a",
   "metadata": {},
   "outputs": [
    {
     "name": "stdout",
     "output_type": "stream",
     "text": [
      "d:\\1\\envs\\tf_env\\python.exe\n"
     ]
    }
   ],
   "source": [
    "# In a notebook cell, check which Python you're using\n",
    "import sys\n",
    "print(sys.executable)  # Shows current Python path"
   ]
  },
  {
   "cell_type": "code",
   "execution_count": 5,
   "id": "a0af408a",
   "metadata": {},
   "outputs": [
    {
     "name": "stdout",
     "output_type": "stream",
     "text": [
      "Requirement already satisfied: scikit-learn in d:\\1\\envs\\tf_env\\lib\\site-packages (1.6.1)\n",
      "Requirement already satisfied: numpy>=1.19.5 in d:\\1\\envs\\tf_env\\lib\\site-packages (from scikit-learn) (2.1.3)\n",
      "Requirement already satisfied: scipy>=1.6.0 in d:\\1\\envs\\tf_env\\lib\\site-packages (from scikit-learn) (1.15.2)\n",
      "Requirement already satisfied: joblib>=1.2.0 in d:\\1\\envs\\tf_env\\lib\\site-packages (from scikit-learn) (1.4.2)\n",
      "Requirement already satisfied: threadpoolctl>=3.1.0 in d:\\1\\envs\\tf_env\\lib\\site-packages (from scikit-learn) (3.6.0)\n",
      "Note: you may need to restart the kernel to use updated packages.\n"
     ]
    }
   ],
   "source": [
    "pip install scikit-learn"
   ]
  },
  {
   "cell_type": "code",
   "execution_count": 12,
   "id": "3ed40942",
   "metadata": {},
   "outputs": [
    {
     "name": "stdout",
     "output_type": "stream",
     "text": [
      "Note: you may need to restart the kernel to use updated packages.\n"
     ]
    }
   ],
   "source": [
    "pip install opencv-contrib-python>=4.2.0.32"
   ]
  },
  {
   "cell_type": "code",
   "execution_count": 6,
   "id": "c80741d5",
   "metadata": {},
   "outputs": [
    {
     "name": "stdout",
     "output_type": "stream",
     "text": [
      "scikit-learn version: 1.6.1\n"
     ]
    }
   ],
   "source": [
    "# Check if sklearn is installed and accessible\n",
    "try:\n",
    "    import sklearn\n",
    "    print(f\"scikit-learn version: {sklearn.__version__}\")\n",
    "except ImportError:\n",
    "    print(\"scikit-learn not found!\")"
   ]
  },
  {
   "cell_type": "code",
   "execution_count": 1,
   "id": "5b485e25",
   "metadata": {},
   "outputs": [
    {
     "name": "stdout",
     "output_type": "stream",
     "text": [
      "-------------DONE------------\n",
      "The number of train digits data:  1000\n",
      "-------------DONE------------\n",
      "The number of train alphas data:  2100\n"
     ]
    }
   ],
   "source": [
    "from knn_model import KNN_Model\n",
    "model = KNN_Model(trainable=True)"
   ]
  },
  {
   "cell_type": "code",
   "execution_count": 2,
   "id": "115a3591",
   "metadata": {},
   "outputs": [
    {
     "name": "stdout",
     "output_type": "stream",
     "text": [
      "Training KNN model......\n",
      "Validation Accuracy: 0.9895\n"
     ]
    }
   ],
   "source": [
    "model.train()"
   ]
  }
 ],
 "metadata": {
  "kernelspec": {
   "display_name": "tf_env",
   "language": "python",
   "name": "python3"
  },
  "language_info": {
   "codemirror_mode": {
    "name": "ipython",
    "version": 3
   },
   "file_extension": ".py",
   "mimetype": "text/x-python",
   "name": "python",
   "nbconvert_exporter": "python",
   "pygments_lexer": "ipython3",
   "version": "3.10.16"
  }
 },
 "nbformat": 4,
 "nbformat_minor": 5
}
